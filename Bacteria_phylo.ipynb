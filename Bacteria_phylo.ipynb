{
 "cells": [
  {
   "cell_type": "code",
   "execution_count": 1,
   "id": "34edd5db",
   "metadata": {},
   "outputs": [],
   "source": [
    "import os\n",
    "import re\n",
    "import json\n",
    "import subprocess\n",
    "import matplotlib.pyplot as plt\n",
    "\n",
    "from Bio import Entrez\n",
    "from Bio import SeqIO\n",
    "from Bio import Phylo\n",
    "from Bio.Align.Applications import MuscleCommandline\n",
    "from Bio.Phylo.Applications import PhymlCommandline\n",
    "\n",
    "Entrez.email = \"katerina.koptelova@yandex.ru\""
   ]
  },
  {
   "cell_type": "markdown",
   "id": "34c0885c",
   "metadata": {},
   "source": [
    "## Определяем интересующие нас штаммы"
   ]
  },
  {
   "cell_type": "markdown",
   "id": "2b20685a",
   "metadata": {},
   "source": [
    "Перечисляем названия организмов и штаммы, для которых хотим строить дерево (штамм можно не указывать)"
   ]
  },
  {
   "cell_type": "code",
   "execution_count": 2,
   "id": "150e7dab",
   "metadata": {},
   "outputs": [],
   "source": [
    "# Археи\n",
    "organisms = [ # (organism, strain)\n",
    "    ('Archaeoglobus fulgidus', 'VC-16'),\n",
    "    ('Ignicoccus hospitalis', 'KIN4/I'),\n",
    "    ('Methanocaldococcus jannaschii', 'JCM 10045'),\n",
    "    ('Methanococcus maripaludis', 'JJ'),\n",
    "    ('Decoy', 'junk'),    # Такого в базах точно нет, скрипт отработает с предупреждением\n",
    "    ('Pyrobaculum aerophilum', 'IM2'),\n",
    "    ('Pyrobaculum calidifontis', 'VA1'),\n",
    "    ('Pyrococcus horikoshii', 'JA-1'),\n",
    "    ('Sulfolobus tokodaii', '7'),\n",
    "]\n",
    "\n",
    "# Бактерии\n",
    "outgroup = [\n",
    "    ('Desulfovibrio piger', 'ATCC 29098'),\n",
    "    ('Herpetosiphon aurantiacus', ''),\n",
    "    ('Rhodopirellula baltica', 'SH 1'),\n",
    "]"
   ]
  },
  {
   "cell_type": "markdown",
   "id": "32a2ef86",
   "metadata": {},
   "source": [
    "## Получение данных из RefSeq"
   ]
  },
  {
   "cell_type": "code",
   "execution_count": 3,
   "id": "44edf0ae",
   "metadata": {},
   "outputs": [],
   "source": [
    "# 16S RefSeq Nucleotide sequence records\n",
    "# https://www.ncbi.nlm.nih.gov/refseq/targetedloci/16S_process/\n",
    "REFSEQ_16S_RNA_TERM = '33175[BioProject] OR 33317[BioProject]'    # Курируемая база 16S РНК бактерий и архей (очень хорошая)\n",
    "\n",
    "# Задаем имена файлов\n",
    "RAW_SEQ_FILENAME = '16S_sequences.fasta'    # файл с сырыми последовательностями\n",
    "ALIGNEMENT_FILENAME = '16S_sequences_aligned.fasta'    # файл с выравниваниями\n",
    "BLOCKS_FILENAME = '16S_sequences_blocks.phylip'    # файл с очищенными выравниваниями\n",
    "ML_TREE_NAME = 'Bacteria_MLTree.newick'    # файл с деревом"
   ]
  },
  {
   "cell_type": "code",
   "execution_count": 4,
   "id": "0736a8f8",
   "metadata": {
    "scrolled": false
   },
   "outputs": [
    {
     "name": "stdout",
     "output_type": "stream",
     "text": [
      "For        \"Archaeoglobus fulgidus VC-16\" was retrieved:\n",
      "NR_118873.1 Archaeoglobus fulgidus DSM 4304 strain VC-16 16S ribosomal RNA, complete sequence\n",
      "\n",
      "For        \"Ignicoccus hospitalis KIN4/I\" was retrieved:\n",
      "NR_074104.1 Ignicoccus hospitalis strain KIN4/I 16S ribosomal RNA, complete sequence\n",
      "\n",
      "For        \"Methanocaldococcus jannaschii JCM 10045\" was retrieved:\n",
      "NR_113292.1 Methanocaldococcus jannaschii strain JCM 10045 16S ribosomal RNA, partial sequence\n",
      "\n",
      "For        \"Methanococcus maripaludis JJ\" was retrieved:\n",
      "NR_104984.1 Methanococcus maripaludis strain JJ 16S ribosomal RNA, partial sequence\n",
      "\n",
      "!!!\n",
      "Warning! No items found for Decoy junk\n",
      "\n",
      "For        \"Pyrobaculum aerophilum IM2\" was retrieved:\n",
      "NR_102764.2 Pyrobaculum aerophilum str. IM2 16S ribosomal RNA, complete sequence\n",
      "\n",
      "For        \"Pyrobaculum calidifontis VA1\" was retrieved:\n",
      "NR_040922.1 Pyrobaculum calidifontis JCM 11548 strain VA1 16S ribosomal RNA, complete sequence\n",
      "\n",
      "For        \"Pyrococcus horikoshii JA-1\" was retrieved:\n",
      "NR_029054.1 Pyrococcus horikoshii strain JA-1 16S ribosomal RNA, partial sequence\n",
      "\n",
      "!!!\n",
      "Warning! For \"Sulfolobus tokodaii 7\" was find just\n",
      "  NR_028609.1 Sulfurisphaera tokodaii strain 7 16S ribosomal RNA, partial sequence\n",
      "\n",
      "For        \"Desulfovibrio piger ATCC 29098\" was retrieved:\n",
      "NR_041778.1 Desulfovibrio piger strain ATCC 29098 16S ribosomal RNA, partial sequence\n",
      "\n",
      "For        \"Herpetosiphon aurantiacus \" was retrieved:\n",
      "NR_074236.1 Herpetosiphon aurantiacus 16S ribosomal RNA, partial sequence\n",
      "\n",
      "For        \"Rhodopirellula baltica SH 1\" was retrieved:\n",
      "NR_043384.1 Rhodopirellula baltica SH 1 16S ribosomal RNA, partial sequence\n",
      "\n"
     ]
    }
   ],
   "source": [
    "full_names = {} # словарь с полными именами\n",
    "taxonomy = {} # словарь с таксономией\n",
    "\n",
    "with open(RAW_SEQ_FILENAME, 'w') as output_handle:    # открываем файл в режиме записи\n",
    "    for organism, strain in organisms + outgroup:    # итерируемся по объединенному списку организмов (организмы + аутгруппа)\n",
    "        \n",
    "        # Запрос к базе данных\n",
    "        query = f'\"{organism}\"[Organism]' # \"название организма\"[Strain]\n",
    "        if strain:\n",
    "            query += f' AND \"{strain}\"[Strain]'\n",
    "        \n",
    "        # Выполняем поиск\n",
    "        # Я СКОПИПАСТИЛА ЭТО ИЗ ПРИМЕРА\n",
    "        handle = Entrez.esearch(db='nucleotide',    # база данных поиска\n",
    "                                term=f'({REFSEQ_16S_RNA_TERM}) AND ({query})',    # запрос к базе\n",
    "                                sort='Date Modified')    # сортируем по свежести\n",
    "        record = Entrez.read(handle)    # преобразуем handle в читаемый вид\n",
    "        \n",
    "        # Проверка на то, нашлось ли что-либо по запросу\n",
    "        if int(record[\"Count\"]) == 0:\n",
    "            print(f'!!!\\nWarning! No items found for {organism} {strain}\\n')\n",
    "            continue\n",
    "        \n",
    "        # Выбираем самый свежий результат и получаем последовательность\n",
    "        seq_id = record['IdList'][0]    # берем самый свежий результат\n",
    "        handle = Entrez.efetch(db='nucleotide',     # достаём (база данных поиска\n",
    "                               id=seq_id,    # айдишник, получен строчкой выше\n",
    "                               rettype=\"fasta\")    # тип ответа)\n",
    "        seq = SeqIO.read(handle, format='fasta')\n",
    "               \n",
    "        # Проверка на соответствие результата запросу\n",
    "        if not (re.search(organism, seq.description) and re.search(strain, seq.description)):\n",
    "            # если не (нашлось имя организма в результате и нашлось имя штамма в результате):\n",
    "            print(f'!!!\\nWarning! For \"{organism} {strain}\" was find just\\n  {seq.description}\\n')\n",
    "            continue\n",
    "        \n",
    "        # Для верификации результата получим таксономические данные\n",
    "        handle = Entrez.efetch(db='nucleotide', \n",
    "                               id=seq_id,\n",
    "                               rettype=\"gb\",\n",
    "                               retmode='xml')\n",
    "        taxonomy[seq.id] = Entrez.read(handle)[0]['GBSeq_taxonomy']    # запоминаем таксон по айдишнику чтобы в конце верифицировать дерево\n",
    "        \n",
    "        # В ходе обработки будем использовать короткие имена\n",
    "        full_names[seq.id] = seq.description\n",
    "        print(f'For        \"{organism} {strain}\" was retrieved:\\n{seq.description}\\n')\n",
    "        seq.description = ''\n",
    "        \n",
    "        # Записываем последовательность в файл\n",
    "        SeqIO.write(seq, output_handle, \"fasta\")"
   ]
  },
  {
   "cell_type": "markdown",
   "id": "264024d3",
   "metadata": {},
   "source": [
    "## Выравнивание с помощью MUSCLE"
   ]
  },
  {
   "cell_type": "code",
   "execution_count": 5,
   "id": "e4acf225",
   "metadata": {
    "scrolled": false
   },
   "outputs": [
    {
     "name": "stdout",
     "output_type": "stream",
     "text": [
      "\n",
      "MUSCLE v3.8.1551 by Robert C. Edgar\n",
      "\n",
      "http://www.drive5.com/muscle\n",
      "This software is donated to the public domain.\n",
      "Please cite: Edgar, R.C. Nucleic Acids Res 32(5), 1792-97.\n",
      "\n",
      "16S_sequences 10 seqs, lengths min 1400, max 1542, avg 1475\n",
      "00:00:00    15 MB(-1%)  Iter   1    1.82%  K-mer dist pass 1\n",
      "00:00:00    15 MB(-1%)  Iter   1  100.00%  K-mer dist pass 1\n",
      "00:00:00    15 MB(-1%)  Iter   1    1.82%  K-mer dist pass 2\n",
      "00:00:00    15 MB(-1%)  Iter   1  100.00%  K-mer dist pass 2\n",
      "00:00:00    17 MB(-1%)  Iter   1   11.11%  Align node       \n",
      "00:00:00    24 MB(-2%)  Iter   1   22.22%  Align node\n",
      "00:00:00    26 MB(-2%)  Iter   1   33.33%  Align node\n",
      "00:00:00    26 MB(-2%)  Iter   1   44.44%  Align node\n",
      "00:00:00    27 MB(-2%)  Iter   1   55.56%  Align node\n",
      "00:00:00    27 MB(-2%)  Iter   1   66.67%  Align node\n",
      "00:00:00    29 MB(-2%)  Iter   1   77.78%  Align node\n",
      "00:00:00    29 MB(-2%)  Iter   1   88.89%  Align node\n",
      "00:00:00    30 MB(-2%)  Iter   1  100.00%  Align node\n",
      "00:00:00    30 MB(-2%)  Iter   1  100.00%  Align node\n",
      "00:00:00    30 MB(-2%)  Iter   1   10.00%  Root alignment\n",
      "00:00:00    30 MB(-2%)  Iter   1   20.00%  Root alignment\n",
      "00:00:00    30 MB(-2%)  Iter   1   30.00%  Root alignment\n",
      "00:00:00    30 MB(-2%)  Iter   1   40.00%  Root alignment\n",
      "00:00:00    30 MB(-2%)  Iter   1   50.00%  Root alignment\n",
      "00:00:00    30 MB(-2%)  Iter   1   60.00%  Root alignment\n",
      "00:00:00    30 MB(-2%)  Iter   1   70.00%  Root alignment\n",
      "00:00:00    30 MB(-2%)  Iter   1   80.00%  Root alignment\n",
      "00:00:00    30 MB(-2%)  Iter   1   90.00%  Root alignment\n",
      "00:00:00    30 MB(-2%)  Iter   1  100.00%  Root alignment\n",
      "00:00:00    30 MB(-2%)  Iter   1  100.00%  Root alignment\n",
      "00:00:00    30 MB(-2%)  Iter   2   12.50%  Refine tree   \n",
      "00:00:00    30 MB(-2%)  Iter   2   25.00%  Refine tree\n",
      "00:00:00    30 MB(-2%)  Iter   2   37.50%  Refine tree\n",
      "00:00:00    30 MB(-2%)  Iter   2   50.00%  Refine tree\n",
      "00:00:00    30 MB(-2%)  Iter   2   62.50%  Refine tree\n",
      "00:00:00    30 MB(-2%)  Iter   2  100.00%  Refine tree\n",
      "00:00:00    30 MB(-2%)  Iter   2   10.00%  Root alignment\n",
      "00:00:00    30 MB(-2%)  Iter   2   20.00%  Root alignment\n",
      "00:00:00    30 MB(-2%)  Iter   2   30.00%  Root alignment\n",
      "00:00:00    30 MB(-2%)  Iter   2   40.00%  Root alignment\n",
      "00:00:00    30 MB(-2%)  Iter   2   50.00%  Root alignment\n",
      "00:00:00    30 MB(-2%)  Iter   2   60.00%  Root alignment\n",
      "00:00:00    30 MB(-2%)  Iter   2   70.00%  Root alignment\n",
      "00:00:00    30 MB(-2%)  Iter   2   80.00%  Root alignment\n",
      "00:00:00    30 MB(-2%)  Iter   2   90.00%  Root alignment\n",
      "00:00:00    30 MB(-2%)  Iter   2  100.00%  Root alignment\n",
      "00:00:00    30 MB(-2%)  Iter   2  100.00%  Root alignment\n",
      "00:00:00    30 MB(-2%)  Iter   2  100.00%  Root alignment\n",
      "00:00:00    30 MB(-2%)  Iter   3   11.76%  Refine biparts\n",
      "00:00:00    30 MB(-2%)  Iter   3   17.65%  Refine biparts\n",
      "00:00:00    30 MB(-2%)  Iter   3   23.53%  Refine biparts\n",
      "00:00:00    30 MB(-2%)  Iter   3   29.41%  Refine biparts\n",
      "00:00:00    30 MB(-2%)  Iter   3   35.29%  Refine biparts\n",
      "00:00:00    30 MB(-2%)  Iter   3   41.18%  Refine biparts\n",
      "00:00:00    30 MB(-2%)  Iter   3   47.06%  Refine biparts\n",
      "00:00:01    30 MB(-2%)  Iter   3   52.94%  Refine biparts\n",
      "00:00:01    30 MB(-2%)  Iter   3   58.82%  Refine biparts\n",
      "00:00:01    30 MB(-2%)  Iter   3   64.71%  Refine biparts\n",
      "00:00:01    30 MB(-2%)  Iter   3   70.59%  Refine biparts\n",
      "00:00:01    30 MB(-2%)  Iter   3   76.47%  Refine biparts\n",
      "00:00:01    30 MB(-2%)  Iter   3   82.35%  Refine biparts\n",
      "00:00:01    30 MB(-2%)  Iter   3   88.24%  Refine biparts\n",
      "00:00:01    30 MB(-2%)  Iter   3   94.12%  Refine biparts\n",
      "00:00:01    30 MB(-2%)  Iter   3  100.00%  Refine biparts\n",
      "00:00:01    30 MB(-2%)  Iter   3  105.88%  Refine biparts\n",
      "00:00:01    30 MB(-2%)  Iter   3  100.00%  Refine biparts\n",
      "00:00:01    30 MB(-2%)  Iter   4   11.76%  Refine biparts\n",
      "00:00:01    30 MB(-2%)  Iter   4   17.65%  Refine biparts\n",
      "00:00:01    30 MB(-2%)  Iter   4   23.53%  Refine biparts\n",
      "00:00:01    30 MB(-2%)  Iter   4   29.41%  Refine biparts\n",
      "00:00:01    30 MB(-2%)  Iter   4   35.29%  Refine biparts\n",
      "00:00:01    30 MB(-2%)  Iter   4   41.18%  Refine biparts\n",
      "00:00:01    30 MB(-2%)  Iter   4   47.06%  Refine biparts\n",
      "00:00:01    30 MB(-2%)  Iter   4   52.94%  Refine biparts\n",
      "00:00:01    30 MB(-2%)  Iter   4   58.82%  Refine biparts\n",
      "00:00:01    30 MB(-2%)  Iter   4   64.71%  Refine biparts\n",
      "00:00:01    30 MB(-2%)  Iter   4   70.59%  Refine biparts\n",
      "00:00:01    30 MB(-2%)  Iter   4   76.47%  Refine biparts\n",
      "00:00:01    30 MB(-2%)  Iter   4   82.35%  Refine biparts\n",
      "00:00:01    30 MB(-2%)  Iter   4   88.24%  Refine biparts\n",
      "00:00:01    30 MB(-2%)  Iter   4   94.12%  Refine biparts\n",
      "00:00:01    30 MB(-2%)  Iter   4  100.00%  Refine biparts\n",
      "00:00:01    30 MB(-2%)  Iter   4  105.88%  Refine biparts\n",
      "00:00:01    30 MB(-2%)  Iter   4  100.00%  Refine biparts\n",
      "00:00:01    30 MB(-2%)  Iter   5   11.76%  Refine biparts\n",
      "00:00:01    30 MB(-2%)  Iter   5   17.65%  Refine biparts\n",
      "00:00:02    30 MB(-2%)  Iter   5   23.53%  Refine biparts\n",
      "00:00:02    30 MB(-2%)  Iter   5   29.41%  Refine biparts\n",
      "00:00:02    30 MB(-2%)  Iter   5   35.29%  Refine biparts\n",
      "00:00:02    30 MB(-2%)  Iter   5   41.18%  Refine biparts\n",
      "00:00:02    30 MB(-2%)  Iter   5  100.00%  Refine biparts\n",
      "00:00:02    30 MB(-2%)  Iter   5  100.00%  Refine biparts\n",
      "\n"
     ]
    }
   ],
   "source": [
    "# Обертка версии MUSCLE для командной стоки (программа должна быть установлена в системе)\n",
    "muscle_cline = MuscleCommandline(\n",
    "    input=RAW_SEQ_FILENAME,\n",
    "    out=ALIGNEMENT_FILENAME,\n",
    ")\n",
    "stdout, stderr = muscle_cline()    # запускаем программу с указанными аргументами\n",
    "print(stderr)"
   ]
  },
  {
   "cell_type": "markdown",
   "id": "25f90d9c",
   "metadata": {},
   "source": [
    "## Фильтруем выравнивания с помощью gBlocks"
   ]
  },
  {
   "cell_type": "code",
   "execution_count": 6,
   "id": "9ecd1f67",
   "metadata": {},
   "outputs": [
    {
     "name": "stdout",
     "output_type": "stream",
     "text": [
      "\r\n",
      "10 sequences and 1617 positions in the first alignment file:\r\n",
      "16S_sequences_aligned.fasta\r\n",
      "\r\n",
      "16S_sequences_aligned.fasta\r\n",
      "Original alignment: 1617 positions\r\n",
      "Gblocks alignment:  1167 positions (72 %) in 22 selected block(s)\r\n",
      "\r\n"
     ]
    }
   ],
   "source": [
    "# Выполняем bash-команду\n",
    "!./Gblocks 16S_sequences_aligned.fasta g    # просим Gblocks отфильтровать наше выравнивание чтобы убрать шум\n",
    "\n",
    "# Переводим результат в формат phylip\n",
    "SeqIO.convert(f'{ALIGNEMENT_FILENAME}-gb', 'fasta',    # было\n",
    "              BLOCKS_FILENAME, 'phylip-relaxed')    # стало\n",
    "\n",
    "os.remove(f'{ALIGNEMENT_FILENAME}-gb') # удаляем старый файл"
   ]
  },
  {
   "cell_type": "markdown",
   "id": "addc8aff",
   "metadata": {},
   "source": [
    "## Строим дерево методом максимального правдоподобия"
   ]
  },
  {
   "cell_type": "code",
   "execution_count": 7,
   "id": "c0451421",
   "metadata": {},
   "outputs": [
    {
     "name": "stdout",
     "output_type": "stream",
     "text": [
      "\n",
      " oooooooooooooooooooooooooooooooooooooooooooooooooooooooooooooooooooooooooooooooooooooooooooooooo\n",
      "                                  ---  PhyML 3.3.3:3.3.20190909-1  ---                                             \n",
      "                              http://www.atgc-montpellier.fr/phyml                                          \n",
      "                             Copyright CNRS - Universite Montpellier                                 \n",
      " oooooooooooooooooooooooooooooooooooooooooooooooooooooooooooooooooooooooooooooooooooooooooooooooo\n",
      "\n",
      ". Sequence filename: \t\t\t16S_sequences_blocks.phylip\n",
      ". Data set: \t\t\t\t#1\n",
      ". Initial tree: \t\t\tBioNJ\n",
      ". Model of nucleotides substitution: \tHKY85\n",
      ". Number of taxa: \t\t\t10\n",
      ". Log-likelihood: \t\t\t-6433.06814\n",
      ". Unconstrained log-likelihood: \t-5046.46089\n",
      ". Composite log-likelihood: \t\t-15710.68320\n",
      ". Parsimony: \t\t\t\t1161\n",
      ". Tree size: \t\t\t\t1.44854\n",
      ". Discrete gamma model: \t\tYes\n",
      "  - Number of classes: \t\t\t4\n",
      "  - Gamma shape parameter: \t\t0.561\n",
      "  - Relative rate in class 1: \t\t0.04519 [freq=0.250000] \t\t\n",
      "  - Relative rate in class 2: \t\t0.28993 [freq=0.250000] \t\t\n",
      "  - Relative rate in class 3: \t\t0.86008 [freq=0.250000] \t\t\n",
      "  - Relative rate in class 4: \t\t2.80480 [freq=0.250000] \t\t\n",
      ". Transition/transversion ratio: \t2.380368\n",
      ". Nucleotides frequencies:\n",
      "  - f(A)=  0.22262\n",
      "  - f(C)=  0.27589\n",
      "  - f(G)=  0.34610\n",
      "  - f(T)=  0.15539\n",
      "\n",
      ". Run ID:\t\t\t\tnone\n",
      ". Random seed:\t\t\t\t1618872076\n",
      ". Subtree patterns aliasing:\t\tno\n",
      ". Version:\t\t\t\t3.3.3:3.3.20190909-1\n",
      ". Time used:\t\t\t\t0h0m1s (1 seconds)\n",
      "\n",
      " oooooooooooooooooooooooooooooooooooooooooooooooooooooooooooooooooooooooooooooooooooooooooooooooo\n",
      " Suggested citations:\n",
      " S. Guindon, JF. Dufayard, V. Lefort, M. Anisimova, W. Hordijk, O. Gascuel\n",
      " \"New algorithms and methods to estimate maximum-likelihood phylogenies: assessing the performance of PhyML 3.0.\"\n",
      " Systematic Biology. 2010. 59(3):307-321.\n",
      "\n",
      " S. Guindon & O. Gascuel\n",
      " \"A simple, fast, and accurate algorithm to estimate large phylogenies by maximum likelihood\"\n",
      " Systematic Biology. 2003. 52(5):696-704.\n",
      " oooooooooooooooooooooooooooooooooooooooooooooooooooooooooooooooooooooooooooooooooooooooooooooooo\n",
      "\n"
     ]
    }
   ],
   "source": [
    "# Обертка версии PhyML для командной стоки (программа должна быть установлена в системе)\n",
    "command_tree = PhymlCommandline(\n",
    "    input=BLOCKS_FILENAME,\n",
    "    search='BEST',    # данных мало - можем себе позволить найти самое лучшее дерево\n",
    "    datatype='nt',    # тип данных - нуклеотиды\n",
    ")\n",
    "stdout, stderr = command_tree()    # запускаем программу с указанными аргументами\n",
    "\n",
    "# Печатаем отчет программы\n",
    "with open(f'{BLOCKS_FILENAME}_phyml_stats.txt', 'r') as report:    # открываем файл с отчетом\n",
    "    print(report.read())    # печатаем отчет\n",
    "    \n",
    "# Удаляем ненужное и переименовываем файлы\n",
    "os.remove(f'{BLOCKS_FILENAME}_phyml_stats.txt')    # удаляем файл со статистикой\n",
    "os.rename(f'{BLOCKS_FILENAME}_phyml_tree.txt', ML_TREE_NAME)    # переименовываем файл с деревом"
   ]
  },
  {
   "cell_type": "code",
   "execution_count": 8,
   "id": "7fd53874",
   "metadata": {},
   "outputs": [
    {
     "data": {
      "image/png": "[encoded data removed]",
      "text/plain": [
       "<Figure size 936x720 with 1 Axes>"
      ]
     },
     "metadata": {
      "needs_background": "light"
     },
     "output_type": "display_data"
    }
   ],
   "source": [
    "# Функция, возвращающая полные названия и таксоны для узлов\n",
    "def label_func(node):\n",
    "    key = str(node)    # получаем айдишник\n",
    "    if key in full_names:    # если у нас есть для этой штуки полное имя (нужно чтобы пропускать внутренние узлы)\n",
    "        label = full_names[key]    # получаем полное имя\n",
    "        short_label = re.match(r'.+? (.+?) 16S', label).groups()[0]    \n",
    "        # re.match проверяет строку на соответтвие регулярному выражению и извлекает подходящий участок\n",
    "        # извлекаем из полного имени все самое нужное\n",
    "        taxa3 = re.match(r'(.+?;.+?;.+?);', taxonomy[key]).groups()[0]    # извлекаем таксон\n",
    "        return f'{short_label}\\n # {taxa3}'    # возвращаем имя и таксон\n",
    "    return ''    # внутренние узлы не именуем\n",
    "\n",
    "\n",
    "# Считываем полученное дерево\n",
    "tree = Phylo.read(ML_TREE_NAME, 'newick')\n",
    "\n",
    "# Укореняем\n",
    "tree.root_at_midpoint()\n",
    "\n",
    "# Строим полученное дерево\n",
    "fig, ax = plt.subplots(figsize=(13,10))\n",
    "Phylo.draw(tree,\n",
    "           label_func=label_func,    # функция, возвращающая названия узлов\n",
    "           branch_labels=lambda x: '',    # ветви не подписываем\n",
    "           axes=ax,\n",
    "          )"
   ]
  },
  {
   "cell_type": "markdown",
   "id": "134fcf79",
   "metadata": {},
   "source": [
    "Клады полученного дерева объединяют родственные таксоны и разделяют далекие организмы. Это то, чего мы и ожидали от хорошего дерева!"
   ]
  }
 ],
 "metadata": {
  "kernelspec": {
   "display_name": "Python 3",
   "language": "python",
   "name": "python3"
  },
  "language_info": {
   "codemirror_mode": {
    "name": "ipython",
    "version": 3
   },
   "file_extension": ".py",
   "mimetype": "text/x-python",
   "name": "python",
   "nbconvert_exporter": "python",
   "pygments_lexer": "ipython3",
   "version": "3.8.5"
  }
 },
 "nbformat": 4,
 "nbformat_minor": 5
}
