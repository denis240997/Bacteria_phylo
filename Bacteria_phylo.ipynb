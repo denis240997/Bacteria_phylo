{
 "cells": [
  {
   "cell_type": "code",
   "execution_count": 1,
   "id": "34edd5db",
   "metadata": {},
   "outputs": [],
   "source": [
    "import os\n",
    "import re\n",
    "import json\n",
    "import subprocess\n",
    "import matplotlib.pyplot as plt\n",
    "\n",
    "from Bio import Entrez\n",
    "from Bio import SeqIO\n",
    "from Bio import Phylo\n",
    "from Bio.Align.Applications import MuscleCommandline\n",
    "from Bio.Phylo.Applications import PhymlCommandline\n",
    "\n",
    "Entrez.email = \"khamitov.dr15@physics.msu.ru\" # Исправить на свой адрес"
   ]
  },
  {
   "cell_type": "markdown",
   "id": "34c0885c",
   "metadata": {},
   "source": [
    "## Определяем интересующие нас штаммы"
   ]
  },
  {
   "cell_type": "markdown",
   "id": "2b20685a",
   "metadata": {},
   "source": [
    "Перечисляем названия организмов и штаммы, для которых хотим строить дерево (штамм можно не указывать)"
   ]
  },
  {
   "cell_type": "code",
   "execution_count": 2,
   "id": "150e7dab",
   "metadata": {},
   "outputs": [],
   "source": [
    "organisms = [ # (organism, strain)\n",
    "    ('Archaeoglobus fulgidus', 'VC-16'),\n",
    "    ('Desulfovibrio piger', 'ATCC 29098'),\n",
    "    ('Herpetosiphon aurantiacus', None),\n",
    "    ('Ignicoccus hospitalis', 'KIN4/I'),\n",
    "    ('Methanocaldococcus jannaschii', 'JCM 10045'),\n",
    "    ('Methanococcus maripaludis', 'JJ'),\n",
    "    ('Decoy', 'junk'),    # Такого в базах точно нет, скрипт отработает с предупреждением\n",
    "    ('Pyrobaculum aerophilum', 'IM2'),\n",
    "    ('Pyrobaculum calidifontis', 'VA1'),\n",
    "    ('Pyrococcus horikoshii', 'JA-1'),\n",
    "    ('Rhodopirellula baltica', 'SH 1'),\n",
    "    ('Sulfolobus tokodaii', '7'),\n",
    "]"
   ]
  },
  {
   "cell_type": "markdown",
   "id": "32a2ef86",
   "metadata": {},
   "source": [
    "## Получение данных из RefSeq"
   ]
  },
  {
   "cell_type": "code",
   "execution_count": 3,
   "id": "44edf0ae",
   "metadata": {},
   "outputs": [],
   "source": [
    "# 16S RefSeq Nucleotide sequence records\n",
    "# https://www.ncbi.nlm.nih.gov/refseq/targetedloci/16S_process/\n",
    "REFSEQ_16S_RNA_TERM = '33175[BioProject] OR 33317[BioProject]'\n",
    "\n",
    "# Задаем имена файлов\n",
    "RAW_SEQ_FILENAME = '16S_sequences.fasta'\n",
    "ALIGNEMENT_FILENAME = '16S_sequences_aligned.fasta'\n",
    "BLOCKS_FILENAME = '16S_sequences_blocks.phylip'\n",
    "ML_TREE_NAME = 'Bacteria_MLTree.newick'"
   ]
  },
  {
   "cell_type": "code",
   "execution_count": 4,
   "id": "0736a8f8",
   "metadata": {
    "scrolled": false
   },
   "outputs": [
    {
     "name": "stdout",
     "output_type": "stream",
     "text": [
      "For        \"Archaeoglobus fulgidus VC-16\" was retrieved:\n",
      "NR_118873.1 Archaeoglobus fulgidus DSM 4304 strain VC-16 16S ribosomal RNA, complete sequence\n",
      "\n",
      "For        \"Desulfovibrio piger ATCC 29098\" was retrieved:\n",
      "NR_041778.1 Desulfovibrio piger strain ATCC 29098 16S ribosomal RNA, partial sequence\n",
      "\n",
      "For        \"Herpetosiphon aurantiacus None\" was retrieved:\n",
      "NR_074236.1 Herpetosiphon aurantiacus 16S ribosomal RNA, partial sequence\n",
      "\n",
      "For        \"Ignicoccus hospitalis KIN4/I\" was retrieved:\n",
      "NR_074104.1 Ignicoccus hospitalis strain KIN4/I 16S ribosomal RNA, complete sequence\n",
      "\n",
      "For        \"Methanocaldococcus jannaschii JCM 10045\" was retrieved:\n",
      "NR_113292.1 Methanocaldococcus jannaschii strain JCM 10045 16S ribosomal RNA, partial sequence\n",
      "\n",
      "For        \"Methanococcus maripaludis JJ\" was retrieved:\n",
      "NR_104984.1 Methanococcus maripaludis strain JJ 16S ribosomal RNA, partial sequence\n",
      "\n",
      "Warning! No items found for Decoy junk\n",
      "\n",
      "For        \"Pyrobaculum aerophilum IM2\" was retrieved:\n",
      "NR_102764.2 Pyrobaculum aerophilum str. IM2 16S ribosomal RNA, complete sequence\n",
      "\n",
      "For        \"Pyrobaculum calidifontis VA1\" was retrieved:\n",
      "NR_040922.1 Pyrobaculum calidifontis JCM 11548 strain VA1 16S ribosomal RNA, complete sequence\n",
      "\n",
      "For        \"Pyrococcus horikoshii JA-1\" was retrieved:\n",
      "NR_029054.1 Pyrococcus horikoshii strain JA-1 16S ribosomal RNA, partial sequence\n",
      "\n",
      "For        \"Rhodopirellula baltica SH 1\" was retrieved:\n",
      "NR_043384.1 Rhodopirellula baltica SH 1 16S ribosomal RNA, partial sequence\n",
      "\n",
      "For        \"Sulfolobus tokodaii 7\" was retrieved:\n",
      "NR_028609.1 Sulfurisphaera tokodaii strain 7 16S ribosomal RNA, partial sequence\n",
      "\n"
     ]
    }
   ],
   "source": [
    "full_names = {} # словарь с полными именами\n",
    "with open(RAW_SEQ_FILENAME, 'w') as output_handle:\n",
    "    for organism, strain in organisms:\n",
    "        \n",
    "        # Запрос к базе данных\n",
    "        query = f'\"{organism}\"[Organism]'\n",
    "        if strain:\n",
    "            query += f' AND \"{strain}\"[Strain]'\n",
    "        \n",
    "        # Выполняем поиск\n",
    "        handle = Entrez.esearch(db='nucleotide',\n",
    "                                term=f'({REFSEQ_16S_RNA_TERM}) AND ({query})',\n",
    "                                sort='Date Modified')\n",
    "        record = Entrez.read(handle)\n",
    "        \n",
    "        # Проверка на то, нашлось ли что-либо по запросу\n",
    "        if int(record[\"Count\"]) == 0:\n",
    "            print(f'Warning! No items found for {organism} {strain}\\n')\n",
    "            continue\n",
    "        \n",
    "        # Выбираем самый свежий результат и получаем последовательность\n",
    "        seq_id = record['IdList'][0]\n",
    "        handle = Entrez.efetch(db='nucleotide', \n",
    "                               id=seq_id,\n",
    "                               rettype=\"fasta\")\n",
    "        seq = SeqIO.read(handle, format='fasta')\n",
    "        \n",
    "        # В ходе обработки будем использовать короткие имена\n",
    "        full_names[seq.id] = seq.description\n",
    "        print(f'For        \"{organism} {strain}\" was retrieved:\\n{seq.description}\\n')\n",
    "        seq.description = ''\n",
    "        \n",
    "        # Записываем последовательность в файл\n",
    "        SeqIO.write(seq, output_handle, \"fasta\")"
   ]
  },
  {
   "cell_type": "markdown",
   "id": "264024d3",
   "metadata": {},
   "source": [
    "## Выравнивание с помощью MUSCLE"
   ]
  },
  {
   "cell_type": "code",
   "execution_count": 5,
   "id": "e4acf225",
   "metadata": {},
   "outputs": [
    {
     "name": "stdout",
     "output_type": "stream",
     "text": [
      "\n",
      "MUSCLE v3.8.1551 by Robert C. Edgar\n",
      "\n",
      "http://www.drive5.com/muscle\n",
      "This software is donated to the public domain.\n",
      "Please cite: Edgar, R.C. Nucleic Acids Res 32(5), 1792-97.\n",
      "\n",
      "16S_sequences 11 seqs, lengths min 1400, max 1542, avg 1477\n",
      "00:00:00    15 MB(-1%)  Iter   1    1.52%  K-mer dist pass 1\n",
      "00:00:00    15 MB(-1%)  Iter   1  100.00%  K-mer dist pass 1\n",
      "00:00:00    15 MB(-1%)  Iter   1    1.52%  K-mer dist pass 2\n",
      "00:00:00    15 MB(-1%)  Iter   1  100.00%  K-mer dist pass 2\n",
      "00:00:00    17 MB(-1%)  Iter   1   10.00%  Align node       \n",
      "00:00:00    24 MB(-2%)  Iter   1   20.00%  Align node\n",
      "00:00:00    25 MB(-2%)  Iter   1   30.00%  Align node\n",
      "00:00:00    27 MB(-2%)  Iter   1   40.00%  Align node\n",
      "00:00:00    27 MB(-2%)  Iter   1   50.00%  Align node\n",
      "00:00:00    28 MB(-2%)  Iter   1   60.00%  Align node\n",
      "00:00:00    28 MB(-2%)  Iter   1   70.00%  Align node\n",
      "00:00:00    30 MB(-2%)  Iter   1   80.00%  Align node\n",
      "00:00:00    30 MB(-2%)  Iter   1   90.00%  Align node\n",
      "00:00:00    31 MB(-2%)  Iter   1  100.00%  Align node\n",
      "00:00:00    31 MB(-2%)  Iter   1  100.00%  Align node\n",
      "00:00:00    31 MB(-2%)  Iter   1    9.09%  Root alignment\n",
      "00:00:00    31 MB(-2%)  Iter   1   18.18%  Root alignment\n",
      "00:00:00    31 MB(-2%)  Iter   1   27.27%  Root alignment\n",
      "00:00:00    31 MB(-2%)  Iter   1   36.36%  Root alignment\n",
      "00:00:00    31 MB(-2%)  Iter   1   45.45%  Root alignment\n",
      "00:00:00    31 MB(-2%)  Iter   1   54.55%  Root alignment\n",
      "00:00:00    31 MB(-2%)  Iter   1   63.64%  Root alignment\n",
      "00:00:00    31 MB(-2%)  Iter   1   72.73%  Root alignment\n",
      "00:00:00    31 MB(-2%)  Iter   1   81.82%  Root alignment\n",
      "00:00:00    31 MB(-2%)  Iter   1   90.91%  Root alignment\n",
      "00:00:00    31 MB(-2%)  Iter   1  100.00%  Root alignment\n",
      "00:00:00    31 MB(-2%)  Iter   1  100.00%  Root alignment\n",
      "00:00:00    31 MB(-2%)  Iter   2   11.11%  Refine tree   \n",
      "00:00:00    31 MB(-2%)  Iter   2   22.22%  Refine tree\n",
      "00:00:00    31 MB(-2%)  Iter   2   33.33%  Refine tree\n",
      "00:00:00    31 MB(-2%)  Iter   2   44.44%  Refine tree\n",
      "00:00:01    31 MB(-2%)  Iter   2   55.56%  Refine tree\n",
      "00:00:01    31 MB(-2%)  Iter   2  100.00%  Refine tree\n",
      "00:00:01    31 MB(-2%)  Iter   2    9.09%  Root alignment\n",
      "00:00:01    31 MB(-2%)  Iter   2   18.18%  Root alignment\n",
      "00:00:01    31 MB(-2%)  Iter   2   27.27%  Root alignment\n",
      "00:00:01    31 MB(-2%)  Iter   2   36.36%  Root alignment\n",
      "00:00:01    31 MB(-2%)  Iter   2   45.45%  Root alignment\n",
      "00:00:01    31 MB(-2%)  Iter   2   54.55%  Root alignment\n",
      "00:00:01    31 MB(-2%)  Iter   2   63.64%  Root alignment\n",
      "00:00:01    31 MB(-2%)  Iter   2   72.73%  Root alignment\n",
      "00:00:01    31 MB(-2%)  Iter   2   81.82%  Root alignment\n",
      "00:00:01    31 MB(-2%)  Iter   2   90.91%  Root alignment\n",
      "00:00:01    31 MB(-2%)  Iter   2  100.00%  Root alignment\n",
      "00:00:01    31 MB(-2%)  Iter   2  100.00%  Root alignment\n",
      "00:00:01    31 MB(-2%)  Iter   2  100.00%  Root alignment\n",
      "00:00:01    31 MB(-2%)  Iter   3   10.53%  Refine biparts\n",
      "00:00:01    31 MB(-2%)  Iter   3   15.79%  Refine biparts\n",
      "00:00:01    31 MB(-2%)  Iter   3   21.05%  Refine biparts\n",
      "00:00:01    31 MB(-2%)  Iter   3   26.32%  Refine biparts\n",
      "00:00:01    31 MB(-2%)  Iter   3   31.58%  Refine biparts\n",
      "00:00:01    31 MB(-2%)  Iter   3   36.84%  Refine biparts\n",
      "00:00:01    31 MB(-2%)  Iter   3   42.11%  Refine biparts\n",
      "00:00:01    31 MB(-2%)  Iter   3   47.37%  Refine biparts\n",
      "00:00:01    31 MB(-2%)  Iter   3   52.63%  Refine biparts\n",
      "00:00:01    31 MB(-2%)  Iter   3   57.89%  Refine biparts\n",
      "00:00:01    31 MB(-2%)  Iter   3   63.16%  Refine biparts\n",
      "00:00:01    31 MB(-2%)  Iter   3   68.42%  Refine biparts\n",
      "00:00:01    31 MB(-2%)  Iter   3   73.68%  Refine biparts\n",
      "00:00:01    31 MB(-2%)  Iter   3   78.95%  Refine biparts\n",
      "00:00:01    31 MB(-2%)  Iter   3   84.21%  Refine biparts\n",
      "00:00:01    31 MB(-2%)  Iter   3   89.47%  Refine biparts\n",
      "00:00:01    31 MB(-2%)  Iter   3   94.74%  Refine biparts\n",
      "00:00:01    31 MB(-2%)  Iter   3  100.00%  Refine biparts\n",
      "00:00:01    31 MB(-2%)  Iter   3  105.26%  Refine biparts\n",
      "00:00:01    31 MB(-2%)  Iter   3  100.00%  Refine biparts\n",
      "00:00:01    31 MB(-2%)  Iter   4   10.53%  Refine biparts\n",
      "00:00:01    31 MB(-2%)  Iter   4   15.79%  Refine biparts\n",
      "00:00:01    31 MB(-2%)  Iter   4   21.05%  Refine biparts\n",
      "00:00:01    31 MB(-2%)  Iter   4   26.32%  Refine biparts\n",
      "00:00:01    31 MB(-2%)  Iter   4   31.58%  Refine biparts\n",
      "00:00:01    31 MB(-2%)  Iter   4   36.84%  Refine biparts\n",
      "00:00:02    31 MB(-2%)  Iter   4   42.11%  Refine biparts\n",
      "00:00:02    31 MB(-2%)  Iter   4   47.37%  Refine biparts\n",
      "00:00:02    31 MB(-2%)  Iter   4   52.63%  Refine biparts\n",
      "00:00:02    31 MB(-2%)  Iter   4   57.89%  Refine biparts\n",
      "00:00:02    31 MB(-2%)  Iter   4   63.16%  Refine biparts\n",
      "00:00:02    31 MB(-2%)  Iter   4   68.42%  Refine biparts\n",
      "00:00:02    31 MB(-2%)  Iter   4   73.68%  Refine biparts\n",
      "00:00:02    31 MB(-2%)  Iter   4   78.95%  Refine biparts\n",
      "00:00:02    31 MB(-2%)  Iter   4   84.21%  Refine biparts\n",
      "00:00:02    31 MB(-2%)  Iter   4   89.47%  Refine biparts\n",
      "00:00:02    31 MB(-2%)  Iter   4   94.74%  Refine biparts\n",
      "00:00:02    31 MB(-2%)  Iter   4  100.00%  Refine biparts\n",
      "00:00:02    31 MB(-2%)  Iter   4  105.26%  Refine biparts\n",
      "00:00:02    31 MB(-2%)  Iter   4  100.00%  Refine biparts\n",
      "00:00:02    31 MB(-2%)  Iter   5   10.53%  Refine biparts\n",
      "00:00:02    31 MB(-2%)  Iter   5   15.79%  Refine biparts\n",
      "00:00:02    31 MB(-2%)  Iter   5   21.05%  Refine biparts\n",
      "00:00:02    31 MB(-2%)  Iter   5   26.32%  Refine biparts\n",
      "00:00:02    31 MB(-2%)  Iter   5   31.58%  Refine biparts\n",
      "00:00:02    31 MB(-2%)  Iter   5   36.84%  Refine biparts\n",
      "00:00:02    31 MB(-2%)  Iter   5   42.11%  Refine biparts\n",
      "00:00:02    31 MB(-2%)  Iter   5  100.00%  Refine biparts\n",
      "00:00:02    31 MB(-2%)  Iter   5  100.00%  Refine biparts\n",
      "\n"
     ]
    }
   ],
   "source": [
    "# Обертка версии MUSCLE для командной стоки (программа должна быть установлена в системе)\n",
    "muscle_cline = MuscleCommandline(\n",
    "    input=RAW_SEQ_FILENAME,\n",
    "    out=ALIGNEMENT_FILENAME,\n",
    ")\n",
    "stdout, stderr = muscle_cline()\n",
    "print(stderr)"
   ]
  },
  {
   "cell_type": "markdown",
   "id": "25f90d9c",
   "metadata": {},
   "source": [
    "## Фильтруем выравнивания с помощью gBlocks"
   ]
  },
  {
   "cell_type": "code",
   "execution_count": 6,
   "id": "9ecd1f67",
   "metadata": {},
   "outputs": [
    {
     "name": "stdout",
     "output_type": "stream",
     "text": [
      "\r\n",
      "11 sequences and 1638 positions in the first alignment file:\r\n",
      "16S_sequences_aligned.fasta\r\n",
      "\r\n",
      "16S_sequences_aligned.fasta\r\n",
      "Original alignment: 1638 positions\r\n",
      "Gblocks alignment:  1194 positions (72 %) in 26 selected block(s)\r\n",
      "\r\n"
     ]
    }
   ],
   "source": [
    "# Выполняем bash-команду\n",
    "!./Gblocks 16S_sequences_aligned.fasta g\n",
    "\n",
    "# Переводим результат в формат phylip\n",
    "SeqIO.convert(f'{ALIGNEMENT_FILENAME}-gb', 'fasta',\n",
    "              BLOCKS_FILENAME, 'phylip-relaxed')\n",
    "\n",
    "os.remove(f'{ALIGNEMENT_FILENAME}-gb') # удаляем старый файл"
   ]
  },
  {
   "cell_type": "markdown",
   "id": "addc8aff",
   "metadata": {},
   "source": [
    "## Строим дерево методом максимального правдоподобия"
   ]
  },
  {
   "cell_type": "code",
   "execution_count": 7,
   "id": "c0451421",
   "metadata": {},
   "outputs": [
    {
     "name": "stdout",
     "output_type": "stream",
     "text": [
      "\n",
      " oooooooooooooooooooooooooooooooooooooooooooooooooooooooooooooooooooooooooooooooooooooooooooooooo\n",
      "                                  ---  PhyML 3.3.3:3.3.20190909-1  ---                                             \n",
      "                              http://www.atgc-montpellier.fr/phyml                                          \n",
      "                             Copyright CNRS - Universite Montpellier                                 \n",
      " oooooooooooooooooooooooooooooooooooooooooooooooooooooooooooooooooooooooooooooooooooooooooooooooo\n",
      "\n",
      ". Sequence filename: \t\t\t16S_sequences_blocks.phylip\n",
      ". Data set: \t\t\t\t#1\n",
      ". Initial tree: \t\t\tBioNJ\n",
      ". Model of nucleotides substitution: \tHKY85\n",
      ". Number of taxa: \t\t\t11\n",
      ". Log-likelihood: \t\t\t-7173.18256\n",
      ". Unconstrained log-likelihood: \t-5385.19286\n",
      ". Composite log-likelihood: \t\t-17696.97011\n",
      ". Parsimony: \t\t\t\t1330\n",
      ". Tree size: \t\t\t\t1.59740\n",
      ". Discrete gamma model: \t\tYes\n",
      "  - Number of classes: \t\t\t4\n",
      "  - Gamma shape parameter: \t\t0.579\n",
      "  - Relative rate in class 1: \t\t0.04882 [freq=0.250000] \t\t\n",
      "  - Relative rate in class 2: \t\t0.30043 [freq=0.250000] \t\t\n",
      "  - Relative rate in class 3: \t\t0.87024 [freq=0.250000] \t\t\n",
      "  - Relative rate in class 4: \t\t2.78051 [freq=0.250000] \t\t\n",
      ". Transition/transversion ratio: \t2.419682\n",
      ". Nucleotides frequencies:\n",
      "  - f(A)=  0.22034\n",
      "  - f(C)=  0.27856\n",
      "  - f(G)=  0.34369\n",
      "  - f(T)=  0.15741\n",
      "\n",
      ". Run ID:\t\t\t\tnone\n",
      ". Random seed:\t\t\t\t1618854396\n",
      ". Subtree patterns aliasing:\t\tno\n",
      ". Version:\t\t\t\t3.3.3:3.3.20190909-1\n",
      ". Time used:\t\t\t\t0h0m1s (1 seconds)\n",
      "\n",
      " oooooooooooooooooooooooooooooooooooooooooooooooooooooooooooooooooooooooooooooooooooooooooooooooo\n",
      " Suggested citations:\n",
      " S. Guindon, JF. Dufayard, V. Lefort, M. Anisimova, W. Hordijk, O. Gascuel\n",
      " \"New algorithms and methods to estimate maximum-likelihood phylogenies: assessing the performance of PhyML 3.0.\"\n",
      " Systematic Biology. 2010. 59(3):307-321.\n",
      "\n",
      " S. Guindon & O. Gascuel\n",
      " \"A simple, fast, and accurate algorithm to estimate large phylogenies by maximum likelihood\"\n",
      " Systematic Biology. 2003. 52(5):696-704.\n",
      " oooooooooooooooooooooooooooooooooooooooooooooooooooooooooooooooooooooooooooooooooooooooooooooooo\n",
      "\n"
     ]
    }
   ],
   "source": [
    "# Обертка версии MUSCLE для командной стоки (программа должна быть установлена в системе)\n",
    "command_tree = PhymlCommandline(\n",
    "    input=BLOCKS_FILENAME,\n",
    "    search='BEST',\n",
    "    datatype='nt',\n",
    ")\n",
    "stdout, stderr = command_tree()\n",
    "\n",
    "# Печатаем отчет программы\n",
    "with open(f'{BLOCKS_FILENAME}_phyml_stats.txt', 'r') as report:\n",
    "    print(report.read())\n",
    "    \n",
    "# Удаляем ненужное и переименовываем файлы\n",
    "os.remove(f'{BLOCKS_FILENAME}_phyml_stats.txt')\n",
    "os.rename(f'{BLOCKS_FILENAME}_phyml_tree.txt', ML_TREE_NAME)"
   ]
  },
  {
   "cell_type": "code",
   "execution_count": 8,
   "id": "7fd53874",
   "metadata": {},
   "outputs": [
    {
     "data": {
      "image/png": "[encoded data removed]",
      "text/plain": [
       "<Figure size 936x720 with 1 Axes>"
      ]
     },
     "metadata": {
      "needs_background": "light"
     },
     "output_type": "display_data"
    }
   ],
   "source": [
    "# Функция, возвращающая полные названия для узлов\n",
    "def label_func(node):\n",
    "    key = str(node)\n",
    "    if key in full_names:\n",
    "        label = full_names[key]\n",
    "        return re.match(r'.+? (.+?) 16S', label).groups()[0]\n",
    "    return ''\n",
    "\n",
    "\n",
    "# Считываем полученное дерево\n",
    "tree = Phylo.read(ML_TREE_NAME, 'newick')\n",
    "tree.ladderize()  # Flip branches so deeper clades are displayed at top\n",
    "\n",
    "# Строим полученное дерево\n",
    "fig, ax = plt.subplots(figsize=(13,10))\n",
    "Phylo.draw(tree,\n",
    "           label_func=label_func,\n",
    "           branch_labels=lambda x: '',\n",
    "           axes=ax,\n",
    "          )"
   ]
  }
 ],
 "metadata": {
  "kernelspec": {
   "display_name": "Python 3",
   "language": "python",
   "name": "python3"
  },
  "language_info": {
   "codemirror_mode": {
    "name": "ipython",
    "version": 3
   },
   "file_extension": ".py",
   "mimetype": "text/x-python",
   "name": "python",
   "nbconvert_exporter": "python",
   "pygments_lexer": "ipython3",
   "version": "3.8.5"
  }
 },
 "nbformat": 4,
 "nbformat_minor": 5
}
